{
  "nbformat": 4,
  "nbformat_minor": 0,
  "metadata": {
    "colab": {
      "provenance": [],
      "authorship_tag": "ABX9TyPgWU0/daj6lGmpLY+TQgwL",
      "include_colab_link": true
    },
    "kernelspec": {
      "name": "python3",
      "display_name": "Python 3"
    },
    "language_info": {
      "name": "python"
    }
  },
  "cells": [
    {
      "cell_type": "markdown",
      "metadata": {
        "id": "view-in-github",
        "colab_type": "text"
      },
      "source": [
        "<a href=\"https://colab.research.google.com/github/MeghanaKuruvadi/CODSOFT/blob/main/Snapbot.ipynb\" target=\"_parent\"><img src=\"https://colab.research.google.com/assets/colab-badge.svg\" alt=\"Open In Colab\"/></a>"
      ]
    },
    {
      "cell_type": "code",
      "source": [
        "import re\n",
        "import random\n",
        "\n",
        "class SnapBot:\n",
        "  # potential negative responses\n",
        "  negative_responses = (\"no\", \"nope\", \"nah\", \"naw\", \"not a chance\", \"sorry\")\n",
        "  # keywords for exiting the conversation\n",
        "  exit_commands = (\"quit\", \"pause\", \"exit\", \"goodbye\", \"bye\", \"later\")\n",
        "  # random starter questions\n",
        "  random_questions = (\n",
        "        \"Did u install snapchat in ur phone? \",\n",
        "        \"How many snaps do u send a day? \",\n",
        "        \"Do u love using snapchat? \",\n",
        "        \"What is ur highest snapstreak? \",\n",
        "        \"How many friends do u have in snapchat? \",\n",
        "        \"How many groups are u in? \",\n",
        "        \"Do u like the filters of snapchat? \"\n",
        "        \"How many snaps do take a day? \"\n",
        "        \"Do u have snapchat premium\"\n",
        "        \"How many times did u restore ur snap streak? \"\n",
        "    )\n",
        "\n",
        "  def __init__(self):\n",
        "    self.alienbabble = {' describe_about_snapchat': r'.*\\s*your snapchat.*',\n",
        "                         'answer_why_tousesnapchat': r'why\\sare.*'\n",
        "                       }\n",
        "\n",
        "  # Define .greet() below:\n",
        "  def greet(self):\n",
        "    self.name = input(\"Hello there, what's your name? \")\n",
        "    will_help = input(f\"Hi {self.name}, My name is Snapbot.\\n I'm here to give you Snapchat insights.\\n Are you ready to answer those questions?\\n \")\n",
        "    if will_help in self.negative_responses:\n",
        "      print(\"Ok, have a nice day!\\n\")\n",
        "      return\n",
        "\n",
        "    self.chat()\n",
        "\n",
        "\n",
        "  def make_exit(self, reply):\n",
        "    for word in self.exit_commands:\n",
        "      if word in reply:\n",
        "        print(\"Thank you for spending time with me!!, have a great day!\\n\")\n",
        "        return True\n",
        "\n",
        "\n",
        "  def chat(self):\n",
        "    reply = input(random.choice(self.random_questions)).lower()\n",
        "    while not self.make_exit(reply):\n",
        "      reply = input(self.match_reply(reply))\n",
        "\n",
        "\n",
        "\n",
        "  def match_reply(self, reply):\n",
        "    for key, value in self.alienbabble.items():\n",
        "      intent = key\n",
        "      regex_pattern = value\n",
        "      found_match = re.match(regex_pattern, reply)\n",
        "      if found_match and intent == 'describe_about_snapchat':\n",
        "        return self. describe_about_snapchat()\n",
        "      elif found_match and intent == ' answer_why_tousesnapchat':\n",
        "        return self.answer_why_tousesnapchat()\n",
        "      else:\n",
        "        return self.no_match_intent()\n",
        "\n",
        "\n",
        "\n",
        "\n",
        "  def describe_about_snapchat(self):\n",
        "    responses = [\"Snapchat is used to communicate with your friends.\\n\", \"In snapchat you can share snaps to your friends.\\n \", \"Snapchat can be used by both android and apple users. \"]\n",
        "    return random.choice(responses)\n",
        "\n",
        "\n",
        "  def answer_why_tousesnapchat(self):\n",
        "    responses = [\"I love using snapchat\\n\", \"I am here to know how do you use snapchat\\n \", \"I heard snapchat have many users. \"]\n",
        "    return random.choice(responses)\n",
        "\n",
        "\n",
        "  # Define .no_match_intent():\n",
        "  def no_match_intent(self):\n",
        "    responses = [\"Please tell me more.\\n \", \"Tell me more!\\n \", \"Why do you say that?\\n \", \"I see. Can you elaborate?\\n \", \"Interesting. Can you tell me more? \", \"I see. How do you think? \", \"Why? \"]\n",
        "    return random.choice(responses)\n",
        "\n",
        "# Create an instance of AlienBot below:\n",
        "my_bot = SnapBot()\n",
        "my_bot.greet()"
      ],
      "metadata": {
        "colab": {
          "base_uri": "https://localhost:8080/"
        },
        "id": "Yl53bc5adUMG",
        "outputId": "fa327f9b-5bbb-4a6f-fb5e-b0043b44449f"
      },
      "execution_count": 23,
      "outputs": [
        {
          "output_type": "stream",
          "name": "stdout",
          "text": [
            "Hello there, what's your name? Meghana\n",
            "Hi Meghana, My name is Snapbot.\n",
            " I'm here to give you Snapchat insights.\n",
            " Are you ready to answer those questions?\n",
            " yeah\n",
            "How many snaps do u send a day? 20\n",
            "I see. How do you think? nothing much\n",
            "Why do you say that?\n",
            "  I am sad\n",
            "Why? No I am not sure!!\n",
            "I see. How do you think? ok describe your snapchat\n",
            "Why? answer why\n",
            "Tell me more!\n",
            " nope!\n",
            "I see. Can you elaborate?\n",
            " bye!! see you Tomorrow.\n",
            "Thank you for spending time with me!!, have a great day!\n",
            "\n"
          ]
        }
      ]
    }
  ]
}